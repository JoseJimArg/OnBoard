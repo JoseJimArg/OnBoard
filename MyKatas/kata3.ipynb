{
 "cells": [
  {
   "cell_type": "code",
   "execution_count": 3,
   "metadata": {},
   "outputs": [
    {
     "name": "stdout",
     "output_type": "stream",
     "text": [
      "Advertencia!!! Se acerca un asteroide pelogroso a una velocidad de 49\n"
     ]
    }
   ],
   "source": [
    "# Añadir el código necesario para crear una variable que guarde la velocidad del asteroide.\n",
    "velocidad = int(input(\"Ingresa la velocidad del asteroide:\"))\n",
    "# Escribe una expresión de prueba para calcular si necesita una advertencia.\n",
    "if velocidad > 25:\n",
    "# Agregue las instrucciones que se ejecutarán si la expresión de prueba es true o false.\n",
    "    print(f\"Advertencia!!! Se acerca un asteroide pelogroso a una velocidad de {velocidad}\")\n",
    "else:\n",
    "    print(\"Calma, no es peligroso\")\n",
    "    "
   ]
  },
  {
   "cell_type": "code",
   "execution_count": 4,
   "metadata": {},
   "outputs": [
    {
     "name": "stdout",
     "output_type": "stream",
     "text": [
      "No mires hacia arriba, no hay nada nuevo ahí.\n"
     ]
    }
   ],
   "source": [
    "# Agrega el código para crear una variable para un asteroide que viaja a 19 km/s\n",
    "velocidad = int(input(\"Ingresa la velocidad del asteroide:\"))\n",
    "# Escribe varias expresiones de prueba para determinar si puedes ver el rayo de luz desde la tierra\n",
    "# Agrega las instrucciones que se ejecutarán si las expresiones de prueba son True o False\n",
    "if velocidad >= 20:\n",
    "    print(\"Mira hacia el cielo!!! Hay un asteroide produciendo un rayo de luz\")\n",
    "else:\n",
    "    print(\"No mires hacia arriba, no hay nada nuevo ahí.\")"
   ]
  },
  {
   "cell_type": "code",
   "execution_count": 5,
   "metadata": {},
   "outputs": [
    {
     "name": "stdout",
     "output_type": "stream",
     "text": [
      "Corre!!! Todos vamos a morir porque viene un asteroide muy grande :(\n",
      "Pero no olvides voltear hacia el cielo porque se verá un resplandor bonito :)\n"
     ]
    }
   ],
   "source": [
    "# Agrega el código para crear nuevas variables para la velocidad y el tamaño del asteroide\n",
    "velocidad = int(input(\"Ingresa la velocidad del asteroide en km/s:\"))\n",
    "size = int(input(\"Ingresa el tamaño del asteroide en metros:\"))\n",
    "# Para probar el código, prueba con varias velocidades y tamaños\n",
    "if (size > 25 and size < 1000) and velocidad >= 20:\n",
    "    print(\"Corre!!! Todos vamos a morir porque viene un asteroide muy grande :(\")\n",
    "    print(\"Pero no olvides voltear hacia el cielo porque se verá un resplandor bonito :)\")\n",
    "    if velocidad > 25:\n",
    "        print(\"Advertencia!!!! Viene muy rápido ese asteroide\")\n",
    "else:\n",
    "    print(\"No te preocupes por ese asteroide jeje...\")\n",
    "# Escribe varias expresiones de prueba o combinaciones de expresiones de prueba para determinar qué mensaje se debe enviar a Tierra."
   ]
  }
 ],
 "metadata": {
  "interpreter": {
   "hash": "916dbcbb3f70747c44a77c7bcd40155683ae19c65e1c03b4aa3499c5328201f1"
  },
  "kernelspec": {
   "display_name": "Python 3.8.10 64-bit",
   "language": "python",
   "name": "python3"
  },
  "language_info": {
   "codemirror_mode": {
    "name": "ipython",
    "version": 3
   },
   "file_extension": ".py",
   "mimetype": "text/x-python",
   "name": "python",
   "nbconvert_exporter": "python",
   "pygments_lexer": "ipython3",
   "version": "3.8.10"
  },
  "orig_nbformat": 4
 },
 "nbformat": 4,
 "nbformat_minor": 2
}
